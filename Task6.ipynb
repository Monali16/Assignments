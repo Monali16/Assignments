{
 "cells": [
  {
   "cell_type": "markdown",
   "metadata": {},
   "source": [
    "Write a program to Python find the values which is not divisible 3 but is should be a multiple of 7. Make sure to use only higher order function. "
   ]
  },
  {
   "cell_type": "code",
   "execution_count": 2,
   "metadata": {},
   "outputs": [
    {
     "name": "stdout",
     "output_type": "stream",
     "text": [
      "[7, 14, 28, 35, 49, 56, 70, 77, 91, 98]\n"
     ]
    }
   ],
   "source": [
    "values = filter(lambda x: (x%3!=0 and x%7==0), range(100))\n",
    "print(list(values))"
   ]
  },
  {
   "cell_type": "markdown",
   "metadata": {},
   "source": [
    " Write a program in Python to  multiple the element of list by itself using a traditional function and pass the function to map to complete the operation. "
   ]
  },
  {
   "cell_type": "code",
   "execution_count": 5,
   "metadata": {},
   "outputs": [
    {
     "name": "stdout",
     "output_type": "stream",
     "text": [
      "[0, 5, 10, 15, 20, 25, 30, 35, 40, 45]\n"
     ]
    }
   ],
   "source": [
    "def mul():\n",
    "    li = []\n",
    "    map_mul = map(lambda x: x*5, range(10))\n",
    "    print(list(map_mul))\n",
    "mul()\n",
    "    "
   ]
  },
  {
   "cell_type": "markdown",
   "metadata": {},
   "source": [
    "Write a program to Python find out the character in a string which is uppercase using list comprehension"
   ]
  },
  {
   "cell_type": "code",
   "execution_count": 29,
   "metadata": {},
   "outputs": [
    {
     "name": "stdout",
     "output_type": "stream",
     "text": [
      "['MONALI', 'PATEL']\n"
     ]
    }
   ],
   "source": [
    "words = [\"MONALI\",\"Ami\",\"PATEL\"]\n",
    "res = [word for word in words if word.isupper()]\n",
    "print(list(res))"
   ]
  },
  {
   "cell_type": "markdown",
   "metadata": {},
   "source": [
    "Write a program to construct a dictionary from the two lists containing the names of students and their corresponding subjects. The dictionary should maps the students with their respective subjects. Let’s see how to do this using for loops and dictionary comprehension. HINT-Use Zip function also \n",
    "Student = ['Smit', 'Jaya', 'Rayyan'] \n",
    "capital = ['CSE', 'Networking', 'Operating System'] "
   ]
  },
  {
   "cell_type": "code",
   "execution_count": 51,
   "metadata": {},
   "outputs": [
    {
     "name": "stdout",
     "output_type": "stream",
     "text": [
      "{'Smit': 'CSE', 'Jaya': 'Networking', 'Rayyan': 'Operating System'}\n"
     ]
    }
   ],
   "source": [
    "Student = ['Smit', 'Jaya', 'Rayyan'] \n",
    "capital = ['CSE', 'Networking', 'Operating System'] \n",
    "\n",
    "result = {Student[i]:capital[i] for i in range(len(Student))}\n",
    "print(result)"
   ]
  },
  {
   "cell_type": "code",
   "execution_count": 54,
   "metadata": {},
   "outputs": [
    {
     "ename": "TypeError",
     "evalue": "'dict' object is not callable",
     "output_type": "error",
     "traceback": [
      "\u001b[1;31m---------------------------------------------------------------------------\u001b[0m",
      "\u001b[1;31mTypeError\u001b[0m                                 Traceback (most recent call last)",
      "\u001b[1;32m<ipython-input-54-1394beed3369>\u001b[0m in \u001b[0;36m<module>\u001b[1;34m\u001b[0m\n\u001b[0;32m      1\u001b[0m \u001b[0mStudent\u001b[0m \u001b[1;33m=\u001b[0m \u001b[1;33m[\u001b[0m\u001b[1;34m'Smit'\u001b[0m\u001b[1;33m,\u001b[0m \u001b[1;34m'Jaya'\u001b[0m\u001b[1;33m,\u001b[0m \u001b[1;34m'Rayyan'\u001b[0m\u001b[1;33m]\u001b[0m\u001b[1;33m\u001b[0m\u001b[1;33m\u001b[0m\u001b[0m\n\u001b[0;32m      2\u001b[0m \u001b[0mcapital\u001b[0m \u001b[1;33m=\u001b[0m \u001b[1;33m[\u001b[0m\u001b[1;34m'CSE'\u001b[0m\u001b[1;33m,\u001b[0m \u001b[1;34m'Networking'\u001b[0m\u001b[1;33m,\u001b[0m \u001b[1;34m'Operating System'\u001b[0m\u001b[1;33m]\u001b[0m\u001b[1;33m\u001b[0m\u001b[1;33m\u001b[0m\u001b[0m\n\u001b[1;32m----> 3\u001b[1;33m \u001b[0mc\u001b[0m \u001b[1;33m=\u001b[0m \u001b[0mdict\u001b[0m\u001b[1;33m(\u001b[0m\u001b[0mzip\u001b[0m\u001b[1;33m(\u001b[0m\u001b[0mStudent\u001b[0m\u001b[1;33m,\u001b[0m\u001b[0mcapital\u001b[0m\u001b[1;33m)\u001b[0m\u001b[1;33m)\u001b[0m\u001b[1;33m\u001b[0m\u001b[1;33m\u001b[0m\u001b[0m\n\u001b[0m\u001b[0;32m      4\u001b[0m \u001b[0mprint\u001b[0m\u001b[1;33m(\u001b[0m\u001b[0mstr\u001b[0m\u001b[1;33m(\u001b[0m\u001b[0mc\u001b[0m\u001b[1;33m)\u001b[0m\u001b[1;33m)\u001b[0m\u001b[1;33m\u001b[0m\u001b[1;33m\u001b[0m\u001b[0m\n",
      "\u001b[1;31mTypeError\u001b[0m: 'dict' object is not callable"
     ]
    }
   ],
   "source": [
    "Student = ['Smit', 'Jaya', 'Rayyan'] \n",
    "capital = ['CSE', 'Networking', 'Operating System'] \n",
    "c = dict(zip(Student,capital))\n",
    "print(str(c))"
   ]
  },
  {
   "cell_type": "markdown",
   "metadata": {},
   "source": [
    "#Learn More about Yield, next and Generators "
   ]
  },
  {
   "cell_type": "markdown",
   "metadata": {},
   "source": [
    "Generator is a function that returns an object that can iterate one value at a time. when def function body contains a yield statement then that function is automatically become a generator function.\n",
    "Generator can contain at least one yield statement or more than one. \n",
    "Yield statement pause the functions and save all states and again start from there when we call using next method.\n",
    "next method is used to get the next value from the generator."
   ]
  },
  {
   "cell_type": "markdown",
   "metadata": {},
   "source": [
    " Write a program in Python using generators to reverse the string. Input String = “Consultadd Training” \n"
   ]
  },
  {
   "cell_type": "code",
   "execution_count": 60,
   "metadata": {},
   "outputs": [
    {
     "name": "stdout",
     "output_type": "stream",
     "text": [
      "gnininiarT ddatlusnoC\n"
     ]
    }
   ],
   "source": [
    "def reverse_generator(string):\n",
    "    string = string[::-1]\n",
    "    yield string\n",
    "res = reverse_generator('Consultadd Trainining')\n",
    "print(next(res))"
   ]
  },
  {
   "cell_type": "markdown",
   "metadata": {},
   "source": [
    "Write any example on decorators. \n"
   ]
  },
  {
   "cell_type": "code",
   "execution_count": null,
   "metadata": {},
   "outputs": [],
   "source": []
  },
  {
   "cell_type": "code",
   "execution_count": null,
   "metadata": {},
   "outputs": [],
   "source": []
  },
  {
   "cell_type": "markdown",
   "metadata": {},
   "source": [
    "# File Handling and Exception Handling"
   ]
  },
  {
   "cell_type": "markdown",
   "metadata": {},
   "source": [
    "1. Write a program in Python to allow the error of syntax to go in exception. HINT: use SyntaxError "
   ]
  },
  {
   "cell_type": "code",
   "execution_count": 7,
   "metadata": {},
   "outputs": [
    {
     "ename": "SyntaxError",
     "evalue": "invalid syntax (<ipython-input-7-6d91bc4eb99b>, line 2)",
     "output_type": "error",
     "traceback": [
      "\u001b[1;36m  File \u001b[1;32m\"<ipython-input-7-6d91bc4eb99b>\"\u001b[1;36m, line \u001b[1;32m2\u001b[0m\n\u001b[1;33m    try\u001b[0m\n\u001b[1;37m       ^\u001b[0m\n\u001b[1;31mSyntaxError\u001b[0m\u001b[1;31m:\u001b[0m invalid syntax\n"
     ]
    }
   ],
   "source": [
    "# try to follow the syntax to throw exception however, syntax error is not \n",
    "try\n",
    "    a = input('enter the first value')\n",
    "    b = input('enter the second value')\n",
    "    printl(a+b)\n",
    "except SyntaxError:\n",
    "    print('indent or spacing is wrong in program')\n",
    "    "
   ]
  },
  {
   "cell_type": "markdown",
   "metadata": {},
   "source": [
    "2. Write a program in Python to allow user to open a file by using argv module. If the entered name is incorrect throw an exception and ask them to enter the name again. Make sure to use read only mode. "
   ]
  },
  {
   "cell_type": "code",
   "execution_count": null,
   "metadata": {},
   "outputs": [],
   "source": [
    "from sys import argv # argument variable\n",
    "NameofFile=argv\n",
    "\n",
    "print('Name of File is :', NameofFile)\n",
    "\n",
    "while True:\n",
    "    try:\n",
    "        file = open(NameofFile,'r')\n",
    "        content = file.read()\n",
    "        print(content)\n",
    "        file.close()\n",
    "        break\n",
    "    except:\n",
    "        print('Name of the file is not correct.')\n",
    "        chance = input('Do you want to try one more time (Y/N)?')\n",
    "        if(chance=='Y'):\n",
    "            NameofFile = input('Please enter the name of the correct file :')\n",
    "        else:\n",
    "            break\n",
    "print('Successfully open and read the file.')\n",
    "        \n",
    "    "
   ]
  },
  {
   "cell_type": "markdown",
   "metadata": {},
   "source": [
    "3. Write a program to handle an error if the user entered the number more than four digits it should return “Please length is too short/long !!! Please provide only four digits”  "
   ]
  },
  {
   "cell_type": "code",
   "execution_count": null,
   "metadata": {},
   "outputs": [],
   "source": []
  },
  {
   "cell_type": "code",
   "execution_count": null,
   "metadata": {},
   "outputs": [],
   "source": [
    "num = str(input('Please enter the number: '))\n",
    "print(type(num))\n",
    "while True:\n",
    "    if(len(num)!=4):\n",
    "        print()\n",
    "        raise Exception('Please provide only four digit number && Please is too long/short')\n",
    "    else:\n",
    "        print('Entered number is perfect.')\n",
    "        break"
   ]
  },
  {
   "cell_type": "markdown",
   "metadata": {},
   "source": [
    " Create a login page backend to ask user to enter the UserEmail and password. Make sure to ask Re-Type Password and if the password is incorrect give chance to enter it again but it should not be more than 3 times. "
   ]
  },
  {
   "cell_type": "code",
   "execution_count": null,
   "metadata": {},
   "outputs": [],
   "source": [
    "s_username = 'Moni'\n",
    "s_password = 'Ilovemaggie'\n",
    "    \n",
    "Username=input('Please enter the Username : ')\n",
    "Password=input('Please enter the Password: ')\n",
    "Retype_Password = input('Please re-type the password: ')\n",
    "\n",
    "for i in range(3):\n",
    "    if(Password!='s_password'):\n",
    "        print('Entered password is not correct.')\n",
    "        trial = input('Please enter the password again : ')\n",
    "        print('Access Granted')\n",
    "    else:\n",
    "        print('Access denied')\n",
    "      \n",
    "\n",
    "    "
   ]
  },
  {
   "cell_type": "code",
   "execution_count": null,
   "metadata": {},
   "outputs": [],
   "source": [
    "#Getting error in this problem. Please have a look at it and let me know the reason. just tried to create with class and object concept for practice.\n",
    "\n",
    "class login:\n",
    "    def __init__(self,username,password,Retype_Password):\n",
    "        self.username=username\n",
    "        self.password=password\n",
    "        self.Retype_Password='Ilovemaggie'\n",
    "    def validation(username,password,Retype_Password):\n",
    "        print self.username\n",
    "        if(self.username==username and self.password==password and self.Retype_Password==Retype_Password):\n",
    "            print('Access Granted!!! Login Successfully')\n",
    "        else:\n",
    "            print('Access Denied')\n",
    "            \n",
    "test = login(\"Moni\",\"Ilovemaggie\",\"Ilovemaggie\")  # created object of login class\n",
    "test.validation(input('Please enter the username:'),\n",
    "input('Please enter the password: '),\n",
    "input('Please retype the Password: '))"
   ]
  },
  {
   "cell_type": "markdown",
   "metadata": {},
   "source": [
    "5. https://www.programiz.com/python-programming/exception-handling Go through this link to understand Finally and Raise concept. "
   ]
  },
  {
   "cell_type": "markdown",
   "metadata": {},
   "source": [
    "6. Read any file using Python File handling concept and return only the even length string from the doc.txt file. \n",
    "Consider the content as:  \n",
    "Hello I am a file  \n",
    "Where you need to return the data string  \n",
    "Which is of even length  \n",
    "Make sure you return the content in  \n",
    "The same link as it is present. "
   ]
  },
  {
   "cell_type": "code",
   "execution_count": null,
   "metadata": {},
   "outputs": [],
   "source": [
    "\n",
    "i=1\n",
    "f = open(\"C:\\\\Users\\\\18143\\\\Desktop\\doc.txt\", \"r\") \n",
    "for line in f.readlines():\n",
    "    if i%2==0:\n",
    "        print(line)\n",
    "    i=i+1"
   ]
  },
  {
   "cell_type": "code",
   "execution_count": null,
   "metadata": {},
   "outputs": [],
   "source": []
  }
 ],
 "metadata": {
  "kernelspec": {
   "display_name": "Python 3",
   "language": "python",
   "name": "python3"
  },
  "language_info": {
   "codemirror_mode": {
    "name": "ipython",
    "version": 3
   },
   "file_extension": ".py",
   "mimetype": "text/x-python",
   "name": "python",
   "nbconvert_exporter": "python",
   "pygments_lexer": "ipython3",
   "version": "3.7.4"
  }
 },
 "nbformat": 4,
 "nbformat_minor": 2
}
