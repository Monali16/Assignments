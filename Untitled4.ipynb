{
 "cells": [
  {
   "cell_type": "code",
   "execution_count": 1,
   "metadata": {},
   "outputs": [
    {
     "name": "stdout",
     "output_type": "stream",
     "text": [
      "[2, 1, 5, 2, 2]\n",
      "Enter the number of rows:1\n",
      "Enter the number of columns:5\n",
      "Guess the size of river : 2\n",
      "Guess the size of river : 1\n",
      "Guess the size of river : 5\n",
      "Guess the size of river : 2\n",
      "Guess the size of river : 2\n"
     ]
    },
    {
     "ename": "NameError",
     "evalue": "name 'aresame' is not defined",
     "output_type": "error",
     "traceback": [
      "\u001b[1;31m---------------------------------------------------------------------------\u001b[0m",
      "\u001b[1;31mNameError\u001b[0m                                 Traceback (most recent call last)",
      "\u001b[1;32m<ipython-input-1-0bddf56a2416>\u001b[0m in \u001b[0;36m<module>\u001b[1;34m\u001b[0m\n\u001b[0;32m     48\u001b[0m \u001b[0mC\u001b[0m \u001b[1;33m=\u001b[0m \u001b[0mint\u001b[0m\u001b[1;33m(\u001b[0m\u001b[0minput\u001b[0m\u001b[1;33m(\u001b[0m\u001b[1;34m\"Enter the number of columns:\"\u001b[0m\u001b[1;33m)\u001b[0m\u001b[1;33m)\u001b[0m\u001b[1;33m\u001b[0m\u001b[1;33m\u001b[0m\u001b[0m\n\u001b[0;32m     49\u001b[0m \u001b[0mmat\u001b[0m \u001b[1;33m=\u001b[0m \u001b[1;33m[\u001b[0m\u001b[1;33m[\u001b[0m\u001b[0minput\u001b[0m\u001b[1;33m(\u001b[0m\u001b[1;34m'Guess the size of river : '\u001b[0m\u001b[1;33m)\u001b[0m \u001b[1;32mfor\u001b[0m \u001b[0mx\u001b[0m \u001b[1;32min\u001b[0m \u001b[0mrange\u001b[0m \u001b[1;33m(\u001b[0m\u001b[0mC\u001b[0m\u001b[1;33m)\u001b[0m\u001b[1;33m]\u001b[0m \u001b[1;32mfor\u001b[0m \u001b[0my\u001b[0m \u001b[1;32min\u001b[0m \u001b[0mrange\u001b[0m\u001b[1;33m(\u001b[0m\u001b[0mR\u001b[0m\u001b[1;33m)\u001b[0m\u001b[1;33m]\u001b[0m\u001b[1;33m\u001b[0m\u001b[1;33m\u001b[0m\u001b[0m\n\u001b[1;32m---> 50\u001b[1;33m \u001b[1;32mif\u001b[0m \u001b[1;33m(\u001b[0m\u001b[0maresame\u001b[0m\u001b[1;33m(\u001b[0m\u001b[0mmat\u001b[0m\u001b[1;33m,\u001b[0m\u001b[0mriverSize\u001b[0m\u001b[1;33m(\u001b[0m\u001b[0mmatrix\u001b[0m\u001b[1;33m)\u001b[0m\u001b[1;33m)\u001b[0m\u001b[1;33m==\u001b[0m\u001b[1;36m1\u001b[0m\u001b[1;33m)\u001b[0m\u001b[1;33m:\u001b[0m\u001b[1;33m\u001b[0m\u001b[1;33m\u001b[0m\u001b[0m\n\u001b[0m\u001b[0;32m     51\u001b[0m     \u001b[0mprint\u001b[0m\u001b[1;33m(\u001b[0m\u001b[1;34m'You are the winner'\u001b[0m\u001b[1;33m)\u001b[0m\u001b[1;33m\u001b[0m\u001b[1;33m\u001b[0m\u001b[0m\n\u001b[0;32m     52\u001b[0m \u001b[1;33m\u001b[0m\u001b[0m\n",
      "\u001b[1;31mNameError\u001b[0m: name 'aresame' is not defined"
     ]
    }
   ],
   "source": [
    "def riverSize(matrix):    #iniialize the river size matrix that contains size of all the rivers\n",
    "    size = []       #initialize size of an array\n",
    "    visited = [[False for value in row] for row in matrix]   #iterate all elements in matrix\n",
    "    for i in range(len(matrix)):\n",
    "        for j in range(len(matrix[i])):\n",
    "            if visited[i][j]:\n",
    "                continue\n",
    "            traverseNode(i,j,matrix,visited,size)\n",
    "    return size\n",
    "    print(\"size\",size)\n",
    "def traverseNode(i,j,matrix,visited,size):\n",
    "    currentRiversize=0\n",
    "    nodes=[[i,j]]\n",
    "    while len(nodes):\n",
    "        currentNode= nodes.pop()\n",
    "        i= currentNode[0]\n",
    "        j= currentNode[1]\n",
    "        if visited[i][j]:\n",
    "            continue\n",
    "        visited[i][j]=True\n",
    "        if matrix[i][j]==0:\n",
    "            continue\n",
    "        currentRiversize +=1\n",
    "        unvisitedneighbors= getunvisitedneighbors(i,j,matrix,visited)    #get all unvisited neighbors\n",
    "        for neighbor in unvisitedneighbors:\n",
    "            nodes.append(neighbor)\n",
    "    if currentRiversize>0:\n",
    "        size.append(currentRiversize)\n",
    "def getunvisitedneighbors(i,j,matrix,visited):\n",
    "    unvisitedneighbors = []\n",
    "    if i>0 and not visited[i-1][j]: \n",
    "        unvisitedneighbors.append([i-1,j])\n",
    "    if i<len(matrix)-1 and not visited[i+1][j]:\n",
    "        unvisitedneighbors.append([i+1,j])\n",
    "    if j>0 and not visited[i][j-1]:\n",
    "        unvisitedneighbors.append([i,j-1])\n",
    "    if j<len(matrix[0])-1 and not visited[i][j+1]:\n",
    "        unvisitedneighbors.append([i,j+1])\n",
    "    return unvisitedneighbors\n",
    "matrix = [[1,0,0,1,0],\n",
    "[1,0,1,0,0],\n",
    "[0,0,1,0,1],\n",
    "[1,0,1,0,1],\n",
    "[1,0,1,1,0]]\n",
    "print(riverSize(matrix))\n",
    "\n",
    "R = int(input(\"Enter the number of rows:\")) \n",
    "C = int(input(\"Enter the number of columns:\")) \n",
    "mat = [[input('Guess the size of river : ') for x in range (C)] for y in range(R)] \n",
    "if (aresame(mat,riverSize(matrix))==1):\n",
    "    print('You are the winner')\n",
    "       \n",
    "    "
   ]
  },
  {
   "cell_type": "code",
   "execution_count": null,
   "metadata": {},
   "outputs": [],
   "source": []
  }
 ],
 "metadata": {
  "kernelspec": {
   "display_name": "Python 3",
   "language": "python",
   "name": "python3"
  },
  "language_info": {
   "codemirror_mode": {
    "name": "ipython",
    "version": 3
   },
   "file_extension": ".py",
   "mimetype": "text/x-python",
   "name": "python",
   "nbconvert_exporter": "python",
   "pygments_lexer": "ipython3",
   "version": "3.7.4"
  }
 },
 "nbformat": 4,
 "nbformat_minor": 2
}
