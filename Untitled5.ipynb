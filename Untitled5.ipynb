{
 "cells": [
  {
   "cell_type": "code",
   "execution_count": 6,
   "metadata": {},
   "outputs": [
    {
     "name": "stdout",
     "output_type": "stream",
     "text": [
      "[2, 1, 5, 2, 2]\n",
      "None\n"
     ]
    },
    {
     "ename": "NameError",
     "evalue": "name 'mat' is not defined",
     "output_type": "error",
     "traceback": [
      "\u001b[1;31m---------------------------------------------------------------------------\u001b[0m",
      "\u001b[1;31mNameError\u001b[0m                                 Traceback (most recent call last)",
      "\u001b[1;32m<ipython-input-6-5835f7b719bf>\u001b[0m in \u001b[0;36m<module>\u001b[1;34m\u001b[0m\n\u001b[0;32m     51\u001b[0m     \u001b[1;32mif\u001b[0m \u001b[1;33m(\u001b[0m\u001b[0maresame\u001b[0m\u001b[1;33m(\u001b[0m\u001b[0mmat\u001b[0m\u001b[1;33m,\u001b[0m\u001b[0mriverSize\u001b[0m\u001b[1;33m(\u001b[0m\u001b[0mmatrix\u001b[0m\u001b[1;33m)\u001b[0m\u001b[1;33m)\u001b[0m\u001b[1;33m==\u001b[0m\u001b[0msize\u001b[0m\u001b[1;33m)\u001b[0m\u001b[1;33m:\u001b[0m\u001b[1;33m\u001b[0m\u001b[1;33m\u001b[0m\u001b[0m\n\u001b[0;32m     52\u001b[0m         \u001b[0mprint\u001b[0m\u001b[1;33m(\u001b[0m\u001b[1;34m'You are the winner'\u001b[0m\u001b[1;33m)\u001b[0m\u001b[1;33m\u001b[0m\u001b[1;33m\u001b[0m\u001b[0m\n\u001b[1;32m---> 53\u001b[1;33m \u001b[0maresame\u001b[0m\u001b[1;33m(\u001b[0m\u001b[0mmat\u001b[0m\u001b[1;33m,\u001b[0m\u001b[0mres\u001b[0m\u001b[1;33m)\u001b[0m\u001b[1;33m\u001b[0m\u001b[1;33m\u001b[0m\u001b[0m\n\u001b[0m\u001b[0;32m     54\u001b[0m \u001b[1;33m\u001b[0m\u001b[0m\n",
      "\u001b[1;31mNameError\u001b[0m: name 'mat' is not defined"
     ]
    }
   ],
   "source": [
    "def riverSize(matrix):    #iniialize the river size matrix that contains size of all the rivers\n",
    "    size = []       #initialize size of an array\n",
    "    visited = [[False for value in row] for row in matrix]   #iterate all elements in matrix\n",
    "    for i in range(len(matrix)):\n",
    "        for j in range(len(matrix[i])):\n",
    "            if visited[i][j]:\n",
    "                continue\n",
    "            traverseNode(i,j,matrix,visited,size)\n",
    "    return size\n",
    "    print(\"size\",size)\n",
    "def traverseNode(i,j,matrix,visited,size):\n",
    "    currentRiversize=0\n",
    "    nodes=[[i,j]]\n",
    "    while len(nodes):\n",
    "        currentNode= nodes.pop()\n",
    "        i= currentNode[0]\n",
    "        j= currentNode[1]\n",
    "        if visited[i][j]:\n",
    "            continue\n",
    "        visited[i][j]=True\n",
    "        if matrix[i][j]==0:\n",
    "            continue\n",
    "        currentRiversize +=1\n",
    "        unvisitedneighbors= getunvisitedneighbors(i,j,matrix,visited)    #get all unvisited neighbors\n",
    "        for neighbor in unvisitedneighbors:\n",
    "            nodes.append(neighbor)\n",
    "    if currentRiversize>0:\n",
    "        size.append(currentRiversize)\n",
    "def getunvisitedneighbors(i,j,matrix,visited):\n",
    "    unvisitedneighbors = []\n",
    "    if i>0 and not visited[i-1][j]: \n",
    "        unvisitedneighbors.append([i-1,j])\n",
    "    if i<len(matrix)-1 and not visited[i+1][j]:\n",
    "        unvisitedneighbors.append([i+1,j])\n",
    "    if j>0 and not visited[i][j-1]:\n",
    "        unvisitedneighbors.append([i,j-1])\n",
    "    if j<len(matrix[0])-1 and not visited[i][j+1]:\n",
    "        unvisitedneighbors.append([i,j+1])\n",
    "    return unvisitedneighbors\n",
    "matrix = [[1,0,0,1,0],\n",
    "[1,0,1,0,0],\n",
    "[0,0,1,0,1],\n",
    "[1,0,1,0,1],\n",
    "[1,0,1,1,0]]\n",
    "print(riverSize(matrix))\n",
    "\n",
    "R = int(input(\"Enter the number of rows:\")) \n",
    "C = int(input(\"Enter the number of columns:\")) \n",
    "mat = [[input('Guess the size of river : ') for x in range (C)] for y in range(R)] \n",
    "if (mat):\n",
    "    print('You are the winner')\n",
    "    "
   ]
  },
  {
   "cell_type": "code",
   "execution_count": null,
   "metadata": {},
   "outputs": [],
   "source": []
  },
  {
   "cell_type": "code",
   "execution_count": null,
   "metadata": {},
   "outputs": [],
   "source": []
  }
 ],
 "metadata": {
  "kernelspec": {
   "display_name": "Python 3",
   "language": "python",
   "name": "python3"
  },
  "language_info": {
   "codemirror_mode": {
    "name": "ipython",
    "version": 3
   },
   "file_extension": ".py",
   "mimetype": "text/x-python",
   "name": "python",
   "nbconvert_exporter": "python",
   "pygments_lexer": "ipython3",
   "version": "3.7.4"
  }
 },
 "nbformat": 4,
 "nbformat_minor": 2
}
