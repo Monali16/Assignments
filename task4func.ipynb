{
 "cells": [
  {
   "cell_type": "markdown",
   "metadata": {},
   "source": [
    "1. Write a program using function USINto reverse a string. \n",
    "Sample data: “1234abcd” \n",
    "Expected Output: “dcba4321”"
   ]
  },
  {
   "cell_type": "code",
   "execution_count": 10,
   "metadata": {},
   "outputs": [
    {
     "name": "stdout",
     "output_type": "stream",
     "text": [
      "1234abcd\n"
     ]
    },
    {
     "data": {
      "text/plain": [
       "'dcba4321'"
      ]
     },
     "execution_count": 10,
     "metadata": {},
     "output_type": "execute_result"
    }
   ],
   "source": [
    "\n",
    "def USinto(string): \n",
    "    string = '1234abcd'\n",
    "    string = string[::-1] \n",
    "    return string \n",
    "print(string)\n",
    "USinto(string)\n"
   ]
  },
  {
   "cell_type": "markdown",
   "metadata": {},
   "source": [
    "Write a function that accepts a string and calculate the number of uppercase letters and lowercase letters. \n",
    "Expected Output: \n",
    "No. of Upper case characters : 3 \n",
    "No. of Lower case Characters : 12 "
   ]
  },
  {
   "cell_type": "code",
   "execution_count": 21,
   "metadata": {},
   "outputs": [
    {
     "name": "stdout",
     "output_type": "stream",
     "text": [
      "No. of upper case characters:  3\n",
      "No. of lower case characters:  9\n"
     ]
    }
   ],
   "source": [
    "\n",
    "def fun_count(string):\n",
    "    string ='MonaliMPatel'\n",
    "    count1=count2=0\n",
    "    for i in string:\n",
    "        if(i.isupper()):\n",
    "            count1=count1+1\n",
    "        if(i.islower()):\n",
    "            count2=count2+1\n",
    "    print(\"No. of upper case characters: \", count1)\n",
    "    print(\"No. of lower case characters: \", count2)\n",
    "fun_count(string)"
   ]
  },
  {
   "cell_type": "markdown",
   "metadata": {},
   "source": [
    "Create a function that takes a list and returns a new list with unique elements of the first list."
   ]
  },
  {
   "cell_type": "code",
   "execution_count": 25,
   "metadata": {},
   "outputs": [
    {
     "name": "stdout",
     "output_type": "stream",
     "text": [
      "[1, 3, 5, 6]\n"
     ]
    }
   ],
   "source": [
    "def unique(list):\n",
    "    x= []\n",
    "    for i in list:\n",
    "        if i not in x:\n",
    "            x.append(i)\n",
    "    return x\n",
    "print(unique([1,1,1,3,3,3,5,5,5,6,6,6]))"
   ]
  },
  {
   "cell_type": "markdown",
   "metadata": {},
   "source": [
    " Write a program that accepts a hyphen-separated sequence of words as input and prints the words in a hyphen-separated sequence after sorting them alphabetically. "
   ]
  },
  {
   "cell_type": "code",
   "execution_count": 118,
   "metadata": {},
   "outputs": [
    {
     "name": "stdout",
     "output_type": "stream",
     "text": [
      "zz-bb-yy-cc\n",
      "Sorted:\n",
      "bb-cc-yy-zz\n"
     ]
    }
   ],
   "source": [
    "def hyphen():\n",
    "    list=[i for i in input().split('-')]  \n",
    "    list.sort()\n",
    "    print(\"Sorted:\")\n",
    "    print('-'.join(list))\n",
    "hyphen()"
   ]
  },
  {
   "cell_type": "markdown",
   "metadata": {},
   "source": [
    " Write a program that accepts a sequence of lines as input and prints the lines after making all characters in the sentence capitalized. \n",
    "Sample input: \n",
    "Hello world \n",
    "Practice makes perfect \n",
    "Expected Output: \n",
    "HELLO WORLD \n",
    "PRACTICE MAKES PERFECT \n"
   ]
  },
  {
   "cell_type": "code",
   "execution_count": 1,
   "metadata": {},
   "outputs": [
    {
     "name": "stdout",
     "output_type": "stream",
     "text": [
      "<map object at 0x000001D99054A688>\n"
     ]
    }
   ],
   "source": [
    "def cap():\n",
    "     lines =['hello world', 'practice makes perfect']\n",
    "     capitalize = map(lambda s : s.upper(), lines)\n",
    "     print(capitalize)\n",
    "cap()\n",
    "   \n",
    "    "
   ]
  },
  {
   "cell_type": "code",
   "execution_count": null,
   "metadata": {},
   "outputs": [],
   "source": []
  },
  {
   "cell_type": "markdown",
   "metadata": {},
   "source": [
    " Define a function that can receive two integral numbers in string form and compute their sum and print it in console. "
   ]
  },
  {
   "cell_type": "code",
   "execution_count": 1,
   "metadata": {},
   "outputs": [
    {
     "name": "stdout",
     "output_type": "stream",
     "text": [
      "enter the first number: 10\n",
      "enter the second number: 30\n",
      "40\n"
     ]
    }
   ],
   "source": [
    "def calculate_sum(m,n):\n",
    "    add = int(m) + int(n)\n",
    "    return add\n",
    "m = input('enter the first number: ')\n",
    "n = input('enter the second number: ')\n",
    "print(calculate_sum(m,n))\n",
    "  "
   ]
  },
  {
   "cell_type": "markdown",
   "metadata": {},
   "source": [
    "  Define a function that can accept two strings as input and print the string with maximum length in console. If two strings have the same length, then the function should print all strings line by line."
   ]
  },
  {
   "cell_type": "code",
   "execution_count": 30,
   "metadata": {},
   "outputs": [
    {
     "name": "stdout",
     "output_type": "stream",
     "text": [
      "enter the first string: Moni\n",
      "enter the second string: Patel\n",
      "t : Patel 5\n",
      "None\n"
     ]
    }
   ],
   "source": [
    "def str_len(s,t):\n",
    "\n",
    "\n",
    "    if(len(s)==len(t)):\n",
    "        print(s,'\\n', t)\n",
    "    elif(len(s)>len(t)):\n",
    "        print(\"s :\",s, len(s))\n",
    "    else:\n",
    "        print(\"t :\",t, len(t))\n",
    "        \n",
    "        \n",
    "s = input('enter the first string: ')\n",
    "t = input('enter the second string: ')\n",
    "\n",
    "print(str_len(s,t))\n",
    "\n"
   ]
  },
  {
   "cell_type": "markdown",
   "metadata": {},
   "source": [
    "Define a function which can generate and print a tuple where the value are square of numbers between 1 and 20. \n"
   ]
  },
  {
   "cell_type": "code",
   "execution_count": 39,
   "metadata": {},
   "outputs": [
    {
     "name": "stdout",
     "output_type": "stream",
     "text": [
      "[[1]]\n",
      "[[1, 4]]\n",
      "[[1, 4, 9]]\n",
      "[[1, 4, 9, 16]]\n",
      "[[1, 4, 9, 16, 25]]\n",
      "[[1, 4, 9, 16, 25, 36]]\n",
      "[[1, 4, 9, 16, 25, 36, 49]]\n",
      "[[1, 4, 9, 16, 25, 36, 49, 64]]\n",
      "[[1, 4, 9, 16, 25, 36, 49, 64, 81]]\n",
      "[[1, 4, 9, 16, 25, 36, 49, 64, 81, 100]]\n",
      "[[1, 4, 9, 16, 25, 36, 49, 64, 81, 100, 121]]\n",
      "[[1, 4, 9, 16, 25, 36, 49, 64, 81, 100, 121, 144]]\n",
      "[[1, 4, 9, 16, 25, 36, 49, 64, 81, 100, 121, 144, 169]]\n",
      "[[1, 4, 9, 16, 25, 36, 49, 64, 81, 100, 121, 144, 169, 196]]\n",
      "[[1, 4, 9, 16, 25, 36, 49, 64, 81, 100, 121, 144, 169, 196, 225]]\n",
      "[[1, 4, 9, 16, 25, 36, 49, 64, 81, 100, 121, 144, 169, 196, 225, 256]]\n",
      "[[1, 4, 9, 16, 25, 36, 49, 64, 81, 100, 121, 144, 169, 196, 225, 256, 289]]\n",
      "[[1, 4, 9, 16, 25, 36, 49, 64, 81, 100, 121, 144, 169, 196, 225, 256, 289, 324]]\n",
      "[[1, 4, 9, 16, 25, 36, 49, 64, 81, 100, 121, 144, 169, 196, 225, 256, 289, 324, 361]]\n",
      "[[1, 4, 9, 16, 25, 36, 49, 64, 81, 100, 121, 144, 169, 196, 225, 256, 289, 324, 361, 400]]\n"
     ]
    }
   ],
   "source": [
    "def num():\n",
    "    list = ([])\n",
    "    for i in range(1,21):\n",
    "        list.append(i**2)\n",
    "        print([list])\n",
    "num()\n"
   ]
  },
  {
   "cell_type": "markdown",
   "metadata": {},
   "source": [
    "Write a function called showNumbers that takes a parameter called limit. It should print all the numbers between 0 and limit with a label to identify the even and odd numbers.  \n",
    "Example: If the limit is 3 , it should print: \n",
    "0 EVEN \n",
    "1 ODD \n",
    "2 EVEN \n",
    "3 ODD "
   ]
  },
  {
   "cell_type": "code",
   "execution_count": 45,
   "metadata": {},
   "outputs": [
    {
     "name": "stdout",
     "output_type": "stream",
     "text": [
      "0 even\n",
      "1 odd\n",
      "2 even\n",
      "3 odd\n",
      "4 even\n",
      "5 odd\n",
      "None\n"
     ]
    }
   ],
   "source": [
    "def showNumbers(limit):\n",
    "\n",
    "    for i in range(6):\n",
    "        if(i%2==0):\n",
    "            print(i, 'even')\n",
    "        else:\n",
    "            print(i, 'odd')\n",
    "            \n",
    "\n",
    "limit = 3   \n",
    "print(showNumbers(limit))"
   ]
  },
  {
   "cell_type": "markdown",
   "metadata": {},
   "source": [
    "10. Write a program which can filter() to make a list whose elements are even number between 1 and 20 ( both included) "
   ]
  },
  {
   "cell_type": "code",
   "execution_count": 48,
   "metadata": {},
   "outputs": [
    {
     "name": "stdout",
     "output_type": "stream",
     "text": [
      "[4]\n",
      "[4, 16]\n",
      "[4, 16, 36]\n",
      "[4, 16, 36, 64]\n",
      "[4, 16, 36, 64, 100]\n",
      "[4, 16, 36, 64, 100, 144]\n",
      "[4, 16, 36, 64, 100, 144, 196]\n",
      "[4, 16, 36, 64, 100, 144, 196, 256]\n",
      "[4, 16, 36, 64, 100, 144, 196, 256, 324]\n",
      "[4, 16, 36, 64, 100, 144, 196, 256, 324, 400]\n"
     ]
    }
   ],
   "source": [
    "def filter():\n",
    "    list=[]\n",
    "    for i in range(1,21):\n",
    "        if(i%2==0):\n",
    "            list.append(i**2)\n",
    "            print(list)\n",
    "        \n",
    "            \n",
    "filter()"
   ]
  },
  {
   "cell_type": "markdown",
   "metadata": {},
   "source": [
    "11. Write a program which can map() and filter() to make a list whose elements are square of even number in [1,2,3,4,5,6,7,8,9,10] \n",
    "Hints: Use map() to generate a list. \n",
    "          Use filter() to filter elements of a list \n",
    "            Use lambda to define anonymous functions "
   ]
  },
  {
   "cell_type": "code",
   "execution_count": 103,
   "metadata": {},
   "outputs": [
    {
     "ename": "TypeError",
     "evalue": "filter() takes 0 positional arguments but 2 were given",
     "output_type": "error",
     "traceback": [
      "\u001b[1;31m---------------------------------------------------------------------------\u001b[0m",
      "\u001b[1;31mTypeError\u001b[0m                                 Traceback (most recent call last)",
      "\u001b[1;32m<ipython-input-103-f4eb5733b7af>\u001b[0m in \u001b[0;36m<module>\u001b[1;34m\u001b[0m\n\u001b[0;32m      1\u001b[0m \u001b[0mli\u001b[0m \u001b[1;33m=\u001b[0m \u001b[1;33m[\u001b[0m\u001b[1;36m1\u001b[0m\u001b[1;33m,\u001b[0m\u001b[1;36m2\u001b[0m\u001b[1;33m,\u001b[0m\u001b[1;36m3\u001b[0m\u001b[1;33m,\u001b[0m\u001b[1;36m4\u001b[0m\u001b[1;33m,\u001b[0m\u001b[1;36m5\u001b[0m\u001b[1;33m,\u001b[0m\u001b[1;36m6\u001b[0m\u001b[1;33m,\u001b[0m\u001b[1;36m7\u001b[0m\u001b[1;33m,\u001b[0m\u001b[1;36m8\u001b[0m\u001b[1;33m,\u001b[0m\u001b[1;36m9\u001b[0m\u001b[1;33m,\u001b[0m\u001b[1;36m10\u001b[0m\u001b[1;33m]\u001b[0m\u001b[1;33m\u001b[0m\u001b[1;33m\u001b[0m\u001b[0m\n\u001b[1;32m----> 2\u001b[1;33m \u001b[0meven_sq\u001b[0m \u001b[1;33m=\u001b[0m \u001b[0mmap\u001b[0m\u001b[1;33m(\u001b[0m\u001b[1;32mlambda\u001b[0m \u001b[0mx\u001b[0m\u001b[1;33m:\u001b[0m \u001b[0mx\u001b[0m\u001b[1;33m**\u001b[0m\u001b[1;36m2\u001b[0m\u001b[1;33m,\u001b[0m \u001b[0mfilter\u001b[0m\u001b[1;33m(\u001b[0m\u001b[1;32mlambda\u001b[0m \u001b[0mx\u001b[0m\u001b[1;33m:\u001b[0m \u001b[0mx\u001b[0m\u001b[1;33m%\u001b[0m\u001b[1;36m2\u001b[0m\u001b[1;33m==\u001b[0m\u001b[1;36m0\u001b[0m\u001b[1;33m,\u001b[0m \u001b[0mli\u001b[0m\u001b[1;33m)\u001b[0m\u001b[1;33m)\u001b[0m\u001b[1;33m\u001b[0m\u001b[1;33m\u001b[0m\u001b[0m\n\u001b[0m\u001b[0;32m      3\u001b[0m \u001b[0mprint\u001b[0m\u001b[1;33m(\u001b[0m\u001b[0meven_sq\u001b[0m\u001b[1;33m)\u001b[0m\u001b[1;33m\u001b[0m\u001b[1;33m\u001b[0m\u001b[0m\n\u001b[0;32m      4\u001b[0m \u001b[1;33m\u001b[0m\u001b[0m\n",
      "\u001b[1;31mTypeError\u001b[0m: filter() takes 0 positional arguments but 2 were given"
     ]
    }
   ],
   "source": [
    "\n",
    "li = [1,2,3,4,5,6,7,8,9,10]\n",
    "even_sq = map(lambda x: x**2, filter(lambda x: x%2==0, li))\n",
    "print(even_sq)\n",
    "\n"
   ]
  },
  {
   "cell_type": "code",
   "execution_count": null,
   "metadata": {},
   "outputs": [],
   "source": []
  },
  {
   "cell_type": "markdown",
   "metadata": {},
   "source": [
    "12. Write a function to compute 5/0 and use try/except to catch the exceptions "
   ]
  },
  {
   "cell_type": "code",
   "execution_count": 72,
   "metadata": {},
   "outputs": [
    {
     "name": "stdout",
     "output_type": "stream",
     "text": [
      "Error due to number divide by zero.\n"
     ]
    }
   ],
   "source": [
    "def exception_handling():\n",
    "    try:\n",
    "        p = 5/0\n",
    "    except:\n",
    "        print(\"Error due to number divide by zero.\")\n",
    "exception_handling()"
   ]
  },
  {
   "cell_type": "markdown",
   "metadata": {},
   "source": [
    "13. Flatten the list [[1,2,3].,[4,5],[6,7,8]] into [1,2,3,4,5,6,7,8] using reduce \n",
    "Goal : Turn [1,2,3,4,5,6,7] to 1234567  "
   ]
  },
  {
   "cell_type": "code",
   "execution_count": 83,
   "metadata": {},
   "outputs": [
    {
     "name": "stdout",
     "output_type": "stream",
     "text": [
      "[1, 2, 3, 4, 5, 6, 7, 8]\n"
     ]
    }
   ],
   "source": [
    "from functools import reduce\n",
    "def add(x,y):\n",
    "        return x+y\n",
    "list= [[1,2,3],[4,5],[6,7,8]]\n",
    "concat = reduce(add, list)\n",
    "print(concat)"
   ]
  },
  {
   "cell_type": "code",
   "execution_count": 89,
   "metadata": {},
   "outputs": [
    {
     "name": "stdout",
     "output_type": "stream",
     "text": [
      "[1, 2, 3, 4, 5, 6, 7, 8]\n",
      "12345678"
     ]
    }
   ],
   "source": [
    "list= [[1,2,3],[4,5],[6,7,8]]\n",
    "addition = reduce(lambda x,y: x+y, list)\n",
    "print(addition)\n",
    "for i in addition:\n",
    "    print( i, end = '')"
   ]
  },
  {
   "cell_type": "markdown",
   "metadata": {},
   "source": [
    "14.  \n",
    "\n",
    "(i) def foo(): \n",
    "\n",
    "    try: \n",
    "\n",
    "        return 1 \n",
    "\n",
    "    finally: \n",
    "\n",
    "        return 2 \n",
    "\n",
    "k = foo() \n",
    "\n",
    "print(k) \n",
    "\n",
    "(ii) def a(): \n",
    "\n",
    "    try: \n",
    "\n",
    "        f(x, 4) \n",
    "\n",
    "    finally: \n",
    "\n",
    "        print('after f') \n",
    "\n",
    "    print('after f?') \n",
    "\n",
    "a() \n",
    "\n",
    " "
   ]
  },
  {
   "cell_type": "code",
   "execution_count": 49,
   "metadata": {},
   "outputs": [
    {
     "name": "stdout",
     "output_type": "stream",
     "text": [
      "2\n"
     ]
    }
   ],
   "source": [
    "def foo(): \n",
    "\n",
    "    try: \n",
    "\n",
    "        return 1 \n",
    "\n",
    "    finally: \n",
    "\n",
    "        return 2 \n",
    "\n",
    "k = foo() \n",
    "\n",
    "print(k) "
   ]
  },
  {
   "cell_type": "code",
   "execution_count": 50,
   "metadata": {},
   "outputs": [
    {
     "name": "stdout",
     "output_type": "stream",
     "text": [
      "after f\n"
     ]
    },
    {
     "ename": "NameError",
     "evalue": "name 'f' is not defined",
     "output_type": "error",
     "traceback": [
      "\u001b[1;31m---------------------------------------------------------------------------\u001b[0m",
      "\u001b[1;31mNameError\u001b[0m                                 Traceback (most recent call last)",
      "\u001b[1;32m<ipython-input-50-5016ed6553fe>\u001b[0m in \u001b[0;36m<module>\u001b[1;34m\u001b[0m\n\u001b[0;32m     11\u001b[0m     \u001b[0mprint\u001b[0m\u001b[1;33m(\u001b[0m\u001b[1;34m'after f?'\u001b[0m\u001b[1;33m)\u001b[0m\u001b[1;33m\u001b[0m\u001b[1;33m\u001b[0m\u001b[0m\n\u001b[0;32m     12\u001b[0m \u001b[1;33m\u001b[0m\u001b[0m\n\u001b[1;32m---> 13\u001b[1;33m \u001b[0ma\u001b[0m\u001b[1;33m(\u001b[0m\u001b[1;33m)\u001b[0m\u001b[1;33m\u001b[0m\u001b[1;33m\u001b[0m\u001b[0m\n\u001b[0m",
      "\u001b[1;32m<ipython-input-50-5016ed6553fe>\u001b[0m in \u001b[0;36ma\u001b[1;34m()\u001b[0m\n\u001b[0;32m      3\u001b[0m     \u001b[1;32mtry\u001b[0m\u001b[1;33m:\u001b[0m\u001b[1;33m\u001b[0m\u001b[1;33m\u001b[0m\u001b[0m\n\u001b[0;32m      4\u001b[0m \u001b[1;33m\u001b[0m\u001b[0m\n\u001b[1;32m----> 5\u001b[1;33m         \u001b[0mf\u001b[0m\u001b[1;33m(\u001b[0m\u001b[0mx\u001b[0m\u001b[1;33m,\u001b[0m \u001b[1;36m4\u001b[0m\u001b[1;33m)\u001b[0m\u001b[1;33m\u001b[0m\u001b[1;33m\u001b[0m\u001b[0m\n\u001b[0m\u001b[0;32m      6\u001b[0m \u001b[1;33m\u001b[0m\u001b[0m\n\u001b[0;32m      7\u001b[0m     \u001b[1;32mfinally\u001b[0m\u001b[1;33m:\u001b[0m\u001b[1;33m\u001b[0m\u001b[1;33m\u001b[0m\u001b[0m\n",
      "\u001b[1;31mNameError\u001b[0m: name 'f' is not defined"
     ]
    }
   ],
   "source": [
    "def a(): \n",
    "\n",
    "    try: \n",
    "\n",
    "        f(x, 4) \n",
    "\n",
    "    finally: \n",
    "\n",
    "        print('after f') \n",
    "\n",
    "    print('after f?') \n",
    "\n",
    "a() \n"
   ]
  },
  {
   "cell_type": "code",
   "execution_count": null,
   "metadata": {},
   "outputs": [],
   "source": []
  }
 ],
 "metadata": {
  "kernelspec": {
   "display_name": "Python 3",
   "language": "python",
   "name": "python3"
  },
  "language_info": {
   "codemirror_mode": {
    "name": "ipython",
    "version": 3
   },
   "file_extension": ".py",
   "mimetype": "text/x-python",
   "name": "python",
   "nbconvert_exporter": "python",
   "pygments_lexer": "ipython3",
   "version": "3.7.4"
  }
 },
 "nbformat": 4,
 "nbformat_minor": 2
}
