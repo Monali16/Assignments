{
 "cells": [
  {
   "cell_type": "markdown",
   "metadata": {},
   "source": [
    "1. Write a program that calculates and prints the value according to the given formula: \n",
    "Q= Square root of [(2*C*D)/H] \n",
    "Following are the fixed values of C and H: \n",
    "C is 50. H is 30. \n",
    "D is the variable whose values should be input to your program in a comma-separated sequence. "
   ]
  },
  {
   "cell_type": "code",
   "execution_count": 7,
   "metadata": {},
   "outputs": [
    {
     "name": "stdout",
     "output_type": "stream",
     "text": [
      "160,180,190\n",
      "23\n",
      "23,24\n",
      "23,24,25\n"
     ]
    }
   ],
   "source": [
    "import math\n",
    "C=50\n",
    "H=30\n",
    "#D = input('Enter the value: ')\n",
    "#D = D.split(',')\n",
    "List_D = []\n",
    "res = [x for x in input().split(',')]\n",
    "for D in res:\n",
    "    List_D.append(str(round(math.sqrt(2*C*float(D)/H)))))\n",
    "    print(','.join(List_D))\n",
    "    "
   ]
  },
  {
   "cell_type": "markdown",
   "metadata": {},
   "source": [
    "2. Define a class named Shape and its subclass Square. The Square class has an init function which takes a length as argument. Both classes have an area function which can print the area of the shape where Shape’s area is 0 by default. "
   ]
  },
  {
   "cell_type": "code",
   "execution_count": 9,
   "metadata": {},
   "outputs": [
    {
     "name": "stdout",
     "output_type": "stream",
     "text": [
      "0\n",
      "9\n"
     ]
    }
   ],
   "source": [
    "class Shape:\n",
    "    def area(self,len=0):\n",
    "        res=len*len\n",
    "        return res\n",
    "class Square(Shape):\n",
    "    def _init_(self,length):\n",
    "      self.length=length\n",
    "    def area(self,len):\n",
    "        res = len*len \n",
    "        return res\n",
    "obj_S1 = Shape()\n",
    "print(obj_S1.area())\n",
    "obj_S2 = Square()\n",
    "\n",
    "print(obj_S2.area(3))\n",
    "        "
   ]
  },
  {
   "cell_type": "markdown",
   "metadata": {},
   "source": [
    "3. Create a class to find the three elements that sum to zero from a set of n real numbers. \n",
    "Input array: [-25,-10,-7,-3,2,4,8,10] \n",
    "Output: [[-10,2,8],[-7,-3,10]] "
   ]
  },
  {
   "cell_type": "code",
   "execution_count": 15,
   "metadata": {},
   "outputs": [
    {
     "name": "stdout",
     "output_type": "stream",
     "text": [
      "[[-10, 2, 8], [-7, -3, 10]]\n"
     ]
    },
    {
     "data": {
      "text/plain": [
       "[[-10, 2, 8], [-7, -3, 10]]"
      ]
     },
     "execution_count": 15,
     "metadata": {},
     "output_type": "execute_result"
    }
   ],
   "source": [
    "class Sum:\n",
    "    def sum_zero(self, array):\n",
    "        list_array = []\n",
    "        for m in array:\n",
    "            for n in array:\n",
    "                for k in array:\n",
    "                    if m+n+k==0:\n",
    "                        p1=sorted([m,n,k])\n",
    "                        if p1 not in list_array:\n",
    "                            list_array.append(p1)\n",
    "        print(list_array)\n",
    "        return list_array\n",
    "obj = Sum()\n",
    "obj.sum_zero([-25,-10,-7,-3,2,4,8,10])\n",
    "    "
   ]
  },
  {
   "cell_type": "code",
   "execution_count": null,
   "metadata": {},
   "outputs": [],
   "source": []
  },
  {
   "cell_type": "markdown",
   "metadata": {},
   "source": [
    "4.          What is the output of the following code? Explain your answer as well. \n",
    "\n",
    "class Test: \n",
    "\n",
    "    def __init__(self): \n",
    "\n",
    "        self.x = 0 \n",
    "\n",
    "class Derived_Test(Test): \n",
    "\n",
    "    def __init__(self): \n",
    "\n",
    "        self.y = 1 \n",
    "\n",
    "def main(): \n",
    "\n",
    "    b = Derived_Test() \n",
    "\n",
    "    print(b.x,b.y) \n",
    "\n",
    "main() \n",
    "\n",
    "  \n",
    "\n",
    "class A: \n",
    "\n",
    "    def __init__(self, x= 1): \n",
    "\n",
    "        self.x = x \n",
    "\n",
    "class der(A): \n",
    "\n",
    "    def __init__(self,y = 2): \n",
    "\n",
    "        super().__init__() \n",
    "\n",
    "        self.y = y \n",
    "\n",
    "def main(): \n",
    "\n",
    "    obj = der() \n",
    "\n",
    "    print(obj.x, obj.y) \n",
    "\n",
    "main()) \n",
    "\n",
    "  \n",
    "\n",
    "class A: \n",
    "\n",
    "    def __init__(self,x): \n",
    "\n",
    "        self.x = x \n",
    "\n",
    "    def count(self,x): \n",
    "\n",
    "        self.x = self.x+1 \n",
    "\n",
    "class B(A): \n",
    "\n",
    "    def __init__(self, y=0): \n",
    "\n",
    "        A.__init__(self, 3) \n",
    "\n",
    "        self.y = y \n",
    "\n",
    "    def count(self): \n",
    "\n",
    "        self.y += 1      \n",
    "\n",
    "def main(): \n",
    "\n",
    "    obj = B() \n",
    "\n",
    "    obj.count() \n",
    "\n",
    "    print(obj.x, obj.y) \n",
    "\n",
    "main() \n",
    "\n",
    "  \n",
    "\n",
    "  \n",
    "\n",
    "  \n",
    "\n",
    "class A: \n",
    "\n",
    "    def __init__(self): \n",
    "\n",
    "        self.multiply(15) \n",
    "\n",
    "        print(self.i) \n",
    "\n",
    "  \n",
    "\n",
    "    def multiply(self, i): \n",
    "\n",
    "        self.i = 4 * i; \n",
    "\n",
    "class B(A): \n",
    "\n",
    "    def __init__(self): \n",
    "\n",
    "        super().__init__() \n",
    "\n",
    "  \n",
    "\n",
    "    def multiply(self, i): \n",
    "\n",
    "        self.i = 2 * i; \n",
    "\n",
    "obj = B() "
   ]
  },
  {
   "cell_type": "code",
   "execution_count": 17,
   "metadata": {},
   "outputs": [
    {
     "ename": "AttributeError",
     "evalue": "'Derived_Test' object has no attribute 'x'",
     "output_type": "error",
     "traceback": [
      "\u001b[1;31m---------------------------------------------------------------------------\u001b[0m",
      "\u001b[1;31mAttributeError\u001b[0m                            Traceback (most recent call last)",
      "\u001b[1;32m<ipython-input-17-df73a3b24070>\u001b[0m in \u001b[0;36m<module>\u001b[1;34m\u001b[0m\n\u001b[0;32m     16\u001b[0m     \u001b[0mprint\u001b[0m\u001b[1;33m(\u001b[0m\u001b[0mb\u001b[0m\u001b[1;33m.\u001b[0m\u001b[0mx\u001b[0m\u001b[1;33m,\u001b[0m\u001b[0mb\u001b[0m\u001b[1;33m.\u001b[0m\u001b[0my\u001b[0m\u001b[1;33m)\u001b[0m\u001b[1;33m\u001b[0m\u001b[1;33m\u001b[0m\u001b[0m\n\u001b[0;32m     17\u001b[0m \u001b[1;33m\u001b[0m\u001b[0m\n\u001b[1;32m---> 18\u001b[1;33m \u001b[0mmain\u001b[0m\u001b[1;33m(\u001b[0m\u001b[1;33m)\u001b[0m\u001b[1;33m\u001b[0m\u001b[1;33m\u001b[0m\u001b[0m\n\u001b[0m",
      "\u001b[1;32m<ipython-input-17-df73a3b24070>\u001b[0m in \u001b[0;36mmain\u001b[1;34m()\u001b[0m\n\u001b[0;32m     14\u001b[0m     \u001b[0mb\u001b[0m \u001b[1;33m=\u001b[0m \u001b[0mDerived_Test\u001b[0m\u001b[1;33m(\u001b[0m\u001b[1;33m)\u001b[0m  \u001b[1;31m# Derived_Test\u001b[0m\u001b[1;33m\u001b[0m\u001b[1;33m\u001b[0m\u001b[0m\n\u001b[0;32m     15\u001b[0m \u001b[1;33m\u001b[0m\u001b[0m\n\u001b[1;32m---> 16\u001b[1;33m     \u001b[0mprint\u001b[0m\u001b[1;33m(\u001b[0m\u001b[0mb\u001b[0m\u001b[1;33m.\u001b[0m\u001b[0mx\u001b[0m\u001b[1;33m,\u001b[0m\u001b[0mb\u001b[0m\u001b[1;33m.\u001b[0m\u001b[0my\u001b[0m\u001b[1;33m)\u001b[0m\u001b[1;33m\u001b[0m\u001b[1;33m\u001b[0m\u001b[0m\n\u001b[0m\u001b[0;32m     17\u001b[0m \u001b[1;33m\u001b[0m\u001b[0m\n\u001b[0;32m     18\u001b[0m \u001b[0mmain\u001b[0m\u001b[1;33m(\u001b[0m\u001b[1;33m)\u001b[0m\u001b[1;33m\u001b[0m\u001b[1;33m\u001b[0m\u001b[0m\n",
      "\u001b[1;31mAttributeError\u001b[0m: 'Derived_Test' object has no attribute 'x'"
     ]
    }
   ],
   "source": [
    "class Test:  #create a class Test\n",
    "\n",
    "    def __init__(self):  #constructor used to assign values to instance when we create a object of class. \n",
    "        self.x = 0 \n",
    "\n",
    "class Derived_Test(Test): #Derived_Test is declared as subclass of super class Test.\n",
    "\n",
    "    def __init__(self): # not declared x variable but calling in print statement. Thus, getting error \n",
    "\n",
    "        self.y = 1 \n",
    "\n",
    "def main(): \n",
    "\n",
    "    b = Derived_Test()  # Derived_Test \n",
    "\n",
    "    print(b.x,b.y) \n",
    "\n",
    "main() "
   ]
  },
  {
   "cell_type": "code",
   "execution_count": 3,
   "metadata": {},
   "outputs": [
    {
     "name": "stdout",
     "output_type": "stream",
     "text": [
      "1 2\n"
     ]
    }
   ],
   "source": [
    "class A:     # super class\n",
    "\n",
    "    def __init__(self, x= 1): #constructor is used to assign value to instance when we create a object.\n",
    "\n",
    "        self.x = x \n",
    "\n",
    "class der(A):   #sub class\n",
    "\n",
    "    def __init__(self,y = 2): \n",
    "\n",
    "        super().__init__()  # calling super class which is A to pass value of x by creating an object of der subclass.\n",
    "\n",
    "        self.y = y \n",
    "\n",
    "def main(): \n",
    "\n",
    "    obj = der() \n",
    "\n",
    "    print(obj.x, obj.y) \n",
    "\n",
    "main()   # there is one extra bracket. if it's put intentionslly then got syntax error. howevre, I felt it was just typo error and removed it. "
   ]
  },
  {
   "cell_type": "code",
   "execution_count": 4,
   "metadata": {},
   "outputs": [
    {
     "name": "stdout",
     "output_type": "stream",
     "text": [
      "3 1\n"
     ]
    }
   ],
   "source": [
    "class A: \n",
    "\n",
    "    def __init__(self,x): \n",
    "\n",
    "        self.x = x \n",
    "\n",
    "    def count(self,x): \n",
    "\n",
    "        self.x = self.x+1 \n",
    "\n",
    "class B(A):  #subclass(B) of Superclass(A)\n",
    "\n",
    "    def __init__(self, y=0):  \n",
    "\n",
    "        A.__init__(self, 3) #calling super class(A) to pass the value of x\n",
    "\n",
    "        self.y = y \n",
    "\n",
    "    def count(self): \n",
    "\n",
    "        self.y += 1      \n",
    "\n",
    "def main(): \n",
    "\n",
    "    obj = B()  # create an object of Sub class B\n",
    "\n",
    "    obj.count() # calling count functio to call the value of x and  y.\n",
    "\n",
    "    print(obj.x, obj.y) # print value of x by calling an object of a sub class(B)\n",
    "\n",
    "main()  # call a main function"
   ]
  },
  {
   "cell_type": "code",
   "execution_count": 20,
   "metadata": {},
   "outputs": [
    {
     "name": "stdout",
     "output_type": "stream",
     "text": [
      "30\n",
      "60\n"
     ]
    }
   ],
   "source": [
    "class A: \n",
    "\n",
    "    def __init__(self): \n",
    "\n",
    "        self.multiply(15)  #pass thr value of i as 15\n",
    "\n",
    "        print(self.i) \n",
    "\n",
    "  \n",
    "\n",
    "    def multiply(self, i): #pass the variable i\n",
    "\n",
    "        self.i = 4 * i;  # multiply the value of i to 4\n",
    "\n",
    "class B(A):  # define subclass B of super Class A\n",
    "\n",
    "    def __init__(self): \n",
    "\n",
    "        super().__init__() # calling a super function \n",
    "\n",
    "  \n",
    "\n",
    "    def multiply(self, i): # define multiply functionn in sub class B.\n",
    "\n",
    "        self.i = 2 * i; # multiply the value of i which is 15 to 2.\n",
    "        \n",
    "\n",
    "obj = B() # create an object of subclass.  Thus the output is 15*2=30\n",
    "\n",
    "# extra \n",
    "obj = A() # create an object of super class A. Thus the output is 15*4=60 "
   ]
  },
  {
   "cell_type": "markdown",
   "metadata": {},
   "source": [
    "5. Create a Time class and initialize it with hours and minutes. \n",
    "\n",
    "Make a method addTime which should take two time object and add them. E.g.- (2 hour and 50 min)+(1 hr and 20 min) is (4 hr and 10 min) \n",
    "\n",
    "Make a method displayTime which should print the time. \n",
    " Make a method DisplayMinute which should display the total minutes in the Time. E.g.- (1 hr 2 min) should display 62 minute. \n",
    "\n",
    " "
   ]
  },
  {
   "cell_type": "code",
   "execution_count": null,
   "metadata": {},
   "outputs": [],
   "source": [
    "\n",
    "\n",
    "    \n",
    "    \n"
   ]
  },
  {
   "cell_type": "code",
   "execution_count": 30,
   "metadata": {},
   "outputs": [
    {
     "name": "stdout",
     "output_type": "stream",
     "text": [
      "Time is 4 hours and 10 minutes\n",
      "250 minutes\n"
     ]
    }
   ],
   "source": [
    "class  Time(object):\n",
    "\n",
    "    def __init__(self, hours, minutes):\n",
    "        self.hours = hours\n",
    "        self.minutes = minutes\n",
    "\n",
    "    def addTime(t1, t2):\n",
    "        sum= Time(0, 0) # create a new object sum of class Time\n",
    "        sum.hours = t1.hours + t2.hours # sum of hours\n",
    "        sum.minutes = t1.minutes + t2.minutes # sum of minutes\n",
    "        while sum.minutes >= 60:  #if the minutes are more than 60\n",
    "            sum.hours= sum.hours +1\n",
    "            sum.minutes = sum.minutes - 60\n",
    "        return sum\n",
    "\n",
    "    def displayTime(self):\n",
    "        print(\"Time is %d hours and %d minutes\" %(self.hours, self.minutes))\n",
    "\n",
    "    def displayMinutes(self):\n",
    "        print((self.hours * 60) + self.minutes, \"minutes\")\n",
    "\n",
    "p = Time(2, 50)\n",
    "q = Time(1, 20)\n",
    "r = Time.addTime(p,q)\n",
    "\n",
    "r.displayTime()\n",
    "r.displayMinutes()\n",
    "\n"
   ]
  },
  {
   "cell_type": "code",
   "execution_count": null,
   "metadata": {},
   "outputs": [],
   "source": [
    "\n"
   ]
  },
  {
   "cell_type": "code",
   "execution_count": null,
   "metadata": {},
   "outputs": [],
   "source": [
    "6. Write a Person class with an instance variable, , and a constructor that takes an integer, , as a parameter.\n",
    "The constructor must assign  to  after confirming the argument passed as  is not negative; \n",
    "if a negative argument is passed as , the constructor should set  to  and print Age is not valid, setting age to 0.. \n",
    "In addition, you must write the following instance methods: \n",
    "yearPasses() should increase the  instance variable by . \n",
    "amIOld()  should perform the following conditional actions: \n",
    "If , print You are young.. \n",
    "If  and , print You are a teenager.. \n",
    "Otherwise, print You are old..  \n",
    "Sample Input: \n",
    "4 \n",
    "-1 \n",
    "10 \n",
    "16 \n",
    "18 \n",
    "Sample Output: \n",
    "Age is not valid, setting age to 0. \n",
    "You are young. \n",
    "You are young. \n",
    "You are young. \n",
    "You are a teenager. \n",
    "You are a teenager. \n",
    "You are old. \n",
    "You are old. \n",
    "You are old. "
   ]
  },
  {
   "cell_type": "code",
   "execution_count": 56,
   "metadata": {},
   "outputs": [
    {
     "name": "stdout",
     "output_type": "stream",
     "text": [
      "you are teenager\n",
      "Year passed\n"
     ]
    }
   ],
   "source": [
    "class Person:\n",
    "    def __init__(self, age = 0):\n",
    "        if age<0:  #check the condition if age is negative then print below statement. \n",
    "            print('Age is not valid')\n",
    "            self.age=0    #set age as zero\n",
    "        else:\n",
    "            self.age = age\n",
    "    def amIOld(self):\n",
    "        if self.age <=11:\n",
    "            print('You are young')\n",
    "        elif self.age > 11 and self.age <=19:\n",
    "            print('you are teenager')\n",
    "        else:\n",
    "            print('You are old')\n",
    "    def yearPasses(self):\n",
    "        print('Year passed')\n",
    "def func():        \n",
    "    p = Person(16)\n",
    "    p.amIOld()\n",
    "    p.yearPasses()\n",
    "func()\n",
    "\n",
    "\n",
    "\n"
   ]
  },
  {
   "cell_type": "code",
   "execution_count": null,
   "metadata": {},
   "outputs": [],
   "source": []
  },
  {
   "cell_type": "code",
   "execution_count": null,
   "metadata": {},
   "outputs": [],
   "source": []
  }
 ],
 "metadata": {
  "kernelspec": {
   "display_name": "Python 3",
   "language": "python",
   "name": "python3"
  },
  "language_info": {
   "codemirror_mode": {
    "name": "ipython",
    "version": 3
   },
   "file_extension": ".py",
   "mimetype": "text/x-python",
   "name": "python",
   "nbconvert_exporter": "python",
   "pygments_lexer": "ipython3",
   "version": "3.7.4"
  }
 },
 "nbformat": 4,
 "nbformat_minor": 2
}
