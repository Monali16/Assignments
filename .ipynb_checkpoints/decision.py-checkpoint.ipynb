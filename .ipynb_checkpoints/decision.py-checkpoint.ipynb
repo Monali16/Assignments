{
 "cells": [
  {
   "cell_type": "code",
   "execution_count": 2,
   "metadata": {},
   "outputs": [
    {
     "name": "stdout",
     "output_type": "stream",
     "text": [
      "Consultadd\n",
      "c\n",
      "Consultadd Python Training\n"
     ]
    }
   ],
   "source": [
    "x=15\n",
    "if(x/3):\n",
    "    print(\"Consultadd\")\n",
    "if(x/5):\n",
    "    print(\"c\")\n",
    "if (x/5 and x/3):\n",
    "    print(\"Consultadd Python Training\")"
   ]
  },
  {
   "cell_type": "code",
   "execution_count": 9,
   "metadata": {},
   "outputs": [
    {
     "name": "stdout",
     "output_type": "stream",
     "text": [
      "enter the first number : 6\n",
      "enter the second number : 8\n",
      "\n",
      "(1) Addition\n",
      "(2) Substraction\n",
      "(3)Division\n",
      "(4) Multiplication\n",
      "(5) Average\n",
      "Please choose the option from the list to perform mathematical operations : 5\n",
      "enter the third number : 1\n",
      "enter the forth number : 1\n",
      "4.0\n"
     ]
    }
   ],
   "source": [
    " x = eval(input(\"enter the first number : \"))\n",
    " y = eval(input(\"enter the second number : \"))\n",
    "\n",
    " print (\"\\n\" + \"(1) Addition\" + \"\\n\" + \"(2) Substraction\" + \"\\n\" + \"(3) Division\" + \"\\n\" + \"(4) Multiplication\" + \"\\n\" + \"(5) Average\")\n",
    "    \n",
    "    \n",
    "choice = eval(input(\"Please choose the option from the list to perform mathematical operations : \"))\n",
    "\n",
    "if (choice == 1):\n",
    "    print(x + y)\n",
    "if (choice == 2):\n",
    "    print(x - y)\n",
    "if(choice == 3):\n",
    "    print(x / y)\n",
    "if(choice == 4):\n",
    "    print(x * y)\n",
    "\n",
    " z = eval(input(\"enter the third number : \"))\n",
    " w = eval(input(\"enter the forth number : \"))\n",
    "\n",
    "if(choice == 5):\n",
    "    print((x + y + z + w)/4)\n",
    "    \n",
    "  "
   ]
  },
  {
   "cell_type": "code",
   "execution_count": 1,
   "metadata": {},
   "outputs": [
    {
     "name": "stdout",
     "output_type": "stream",
     "text": [
      "enter the first number : 1\n",
      "enter the second number : 3\n",
      "enter the third number : 1\n",
      "enter the forth number : 3\n",
      "\n",
      "(1) Addition\n",
      "(2) Substraction\n",
      "(3) Division\n",
      "(4) Multiplication\n",
      "(5) Average\n",
      "Please choose the option from the list to perform mathematical operations : 2\n",
      "Zsa\n"
     ]
    }
   ],
   "source": [
    "x = eval(input(\"enter the first number : \"))\n",
    "y = eval(input(\"enter the second number : \"))\n",
    "z = eval(input(\"enter the third number : \"))\n",
    "w = eval(input(\"enter the forth number : \"))\n",
    "\n",
    "print (\"\\n\" + \"(1) Addition\" + \"\\n\" + \"(2) Substraction\" + \"\\n\" + \"(3) Division\" + \"\\n\" + \"(4) Multiplication\" + \"\\n\" + \"(5) Average\")\n",
    "    \n",
    "    \n",
    "choice = eval(input(\"Please choose the option from the list to perform mathematical operations : \"))\n",
    "\n",
    "if (choice == 1):\n",
    "    result = x + y\n",
    "if (choice == 2):\n",
    "    result = x - y\n",
    "if(choice == 3):\n",
    "    result = x / y\n",
    "if(choice == 4):\n",
    "    result = x * y\n",
    "if(choice == 5):\n",
    "    result = (x + y + z + w)/4\n",
    "elif(result>=0):\n",
    "    print (result)\n",
    "else:\n",
    "    print(\"Zsa\")\n",
    "    \n",
    "    \n",
    "    \n"
   ]
  },
  {
   "cell_type": "code",
   "execution_count": null,
   "metadata": {},
   "outputs": [],
   "source": []
  },
  {
   "cell_type": "code",
   "execution_count": null,
   "metadata": {},
   "outputs": [],
   "source": []
  }
 ],
 "metadata": {
  "kernelspec": {
   "display_name": "Python 3",
   "language": "python",
   "name": "python3"
  },
  "language_info": {
   "codemirror_mode": {
    "name": "ipython",
    "version": 3
   },
   "file_extension": ".py",
   "mimetype": "text/x-python",
   "name": "python",
   "nbconvert_exporter": "python",
   "pygments_lexer": "ipython3",
   "version": "3.7.4"
  }
 },
 "nbformat": 4,
 "nbformat_minor": 2
}
