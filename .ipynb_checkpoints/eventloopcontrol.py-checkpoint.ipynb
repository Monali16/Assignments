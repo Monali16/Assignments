{
 "cells": [
  {
   "cell_type": "code",
   "execution_count": 1,
   "metadata": {},
   "outputs": [
    {
     "name": "stdout",
     "output_type": "stream",
     "text": [
      "avg : 20.0\n",
      "average is just highre than a\n"
     ]
    }
   ],
   "source": [
    "a = 10\n",
    "b = 20\n",
    "c = 30\n",
    "\n",
    "avg = (a+b+c)/3\n",
    "\n",
    "print(\"avg :\", avg)\n",
    "\n",
    "if(avg>a and avg>b and avg>c):\n",
    "    print(\"average is higer than a,b and c\")\n",
    "elif(avg>a and avg>b):\n",
    "    print(\"average is highre than a and b\")\n",
    "elif(avg>a and avg>c):\n",
    "    print(\"average is highre than a and c\")\n",
    "elif(avg>b and avg>c):\n",
    "    print(\"average is highre than b and c\")\n",
    "elif(avg>a):\n",
    "    print(\"average is just highre than a\")\n",
    "elif(avg>b):\n",
    "    print(\"average is just higher than b\")\n",
    "elif(avg>c):\n",
    "    print(\"average is just higher than c\")"
   ]
  },
  {
   "cell_type": "code",
   "execution_count": 5,
   "metadata": {},
   "outputs": [
    {
     "name": "stdout",
     "output_type": "stream",
     "text": [
      "enter a number : 1\n",
      "Good Going\n",
      "enter a number : -5\n",
      "It's Over\n"
     ]
    }
   ],
   "source": [
    "while True:\n",
    "    x=int(input(\"enter a number : \"))\n",
    "    if(x<0):\n",
    "        print(\"It's Over\")\n",
    "        break\n",
    "    elif(x>0):\n",
    "        print(\"Good Going\")\n",
    "        continue\n",
    "        "
   ]
  },
  {
   "cell_type": "code",
   "execution_count": 13,
   "metadata": {},
   "outputs": [
    {
     "name": "stdout",
     "output_type": "stream",
     "text": [
      "2002\n",
      "2009\n",
      "2016\n",
      "2023\n",
      "2037\n",
      "2044\n",
      "2051\n",
      "2058\n",
      "2072\n",
      "2079\n",
      "2086\n",
      "2093\n",
      "2107\n",
      "2114\n",
      "2121\n",
      "2128\n",
      "2142\n",
      "2149\n",
      "2156\n",
      "2163\n",
      "2177\n",
      "2184\n",
      "2191\n",
      "2198\n",
      "2212\n",
      "2219\n",
      "2226\n",
      "2233\n",
      "2247\n",
      "2254\n",
      "2261\n",
      "2268\n",
      "2282\n",
      "2289\n",
      "2296\n",
      "2303\n",
      "2317\n",
      "2324\n",
      "2331\n",
      "2338\n",
      "2352\n",
      "2359\n",
      "2366\n",
      "2373\n",
      "2387\n",
      "2394\n",
      "2401\n",
      "2408\n",
      "2422\n",
      "2429\n",
      "2436\n",
      "2443\n",
      "2457\n",
      "2464\n",
      "2471\n",
      "2478\n",
      "2492\n",
      "2499\n",
      "2506\n",
      "2513\n",
      "2527\n",
      "2534\n",
      "2541\n",
      "2548\n",
      "2562\n",
      "2569\n",
      "2576\n",
      "2583\n",
      "2597\n",
      "2604\n",
      "2611\n",
      "2618\n",
      "2632\n",
      "2639\n",
      "2646\n",
      "2653\n",
      "2667\n",
      "2674\n",
      "2681\n",
      "2688\n",
      "2702\n",
      "2709\n",
      "2716\n",
      "2723\n",
      "2737\n",
      "2744\n",
      "2751\n",
      "2758\n",
      "2772\n",
      "2779\n",
      "2786\n",
      "2793\n",
      "2807\n",
      "2814\n",
      "2821\n",
      "2828\n",
      "2842\n",
      "2849\n",
      "2856\n",
      "2863\n",
      "2877\n",
      "2884\n",
      "2891\n",
      "2898\n",
      "2912\n",
      "2919\n",
      "2926\n",
      "2933\n",
      "2947\n",
      "2954\n",
      "2961\n",
      "2968\n",
      "2982\n",
      "2989\n",
      "2996\n",
      "3003\n",
      "3017\n",
      "3024\n",
      "3031\n",
      "3038\n",
      "3052\n",
      "3059\n",
      "3066\n",
      "3073\n",
      "3087\n",
      "3094\n",
      "3101\n",
      "3108\n",
      "3122\n",
      "3129\n",
      "3136\n",
      "3143\n",
      "3157\n",
      "3164\n",
      "3171\n",
      "3178\n",
      "3192\n",
      "3199\n"
     ]
    }
   ],
   "source": [
    "for i in range(2000,3200):\n",
    "     if(i%7==0 and i%5!=0):\n",
    "        print(i)"
   ]
  },
  {
   "cell_type": "code",
   "execution_count": 23,
   "metadata": {},
   "outputs": [
    {
     "ename": "TypeError",
     "evalue": "'int' object is not iterable",
     "output_type": "error",
     "traceback": [
      "\u001b[1;31m---------------------------------------------------------------------------\u001b[0m",
      "\u001b[1;31mTypeError\u001b[0m                                 Traceback (most recent call last)",
      "\u001b[1;32m<ipython-input-23-b49e92dbc2b4>\u001b[0m in \u001b[0;36m<module>\u001b[1;34m\u001b[0m\n\u001b[0;32m      1\u001b[0m \u001b[0mx\u001b[0m\u001b[1;33m=\u001b[0m\u001b[1;36m123\u001b[0m\u001b[1;33m\u001b[0m\u001b[1;33m\u001b[0m\u001b[0m\n\u001b[1;32m----> 2\u001b[1;33m \u001b[1;32mfor\u001b[0m \u001b[0mi\u001b[0m \u001b[1;32min\u001b[0m \u001b[0mx\u001b[0m\u001b[1;33m:\u001b[0m\u001b[1;33m\u001b[0m\u001b[1;33m\u001b[0m\u001b[0m\n\u001b[0m\u001b[0;32m      3\u001b[0m     \u001b[0mprint\u001b[0m\u001b[1;33m(\u001b[0m\u001b[0mi\u001b[0m\u001b[1;33m)\u001b[0m\u001b[1;33m\u001b[0m\u001b[1;33m\u001b[0m\u001b[0m\n",
      "\u001b[1;31mTypeError\u001b[0m: 'int' object is not iterable"
     ]
    }
   ],
   "source": [
    "x=123\n",
    "for i in x: #for loop can't iterate primitive data types. \n",
    "    print(i)"
   ]
  },
  {
   "cell_type": "code",
   "execution_count": 21,
   "metadata": {},
   "outputs": [
    {
     "name": "stdout",
     "output_type": "stream",
     "text": [
      "0\n",
      "error\n",
      "1\n",
      "error\n",
      "2\n"
     ]
    }
   ],
   "source": [
    "i = 0 \n",
    "while i < 5: # initially i = 0\n",
    "    print(i) # first print 0\n",
    "    i += 1   # increment by 1(0 + 1 = 1)\n",
    "    if i == 3: # 0 is not equal to 3\n",
    "        break  # throwing out of loop when i = 3\n",
    "    else:      #if i is not equal to 3, it will print \"error\"\n",
    "            print(\"error\")"
   ]
  },
  {
   "cell_type": "code",
   "execution_count": 25,
   "metadata": {},
   "outputs": [
    {
     "name": "stdout",
     "output_type": "stream",
     "text": [
      "0\n",
      "1\n",
      "2\n",
      "3\n",
      "4\n"
     ]
    }
   ],
   "source": [
    "count = 0\n",
    "while True:\n",
    "    print(count)\n",
    "    count += 1\n",
    "    if count >= 5: #check the condition \n",
    "        break      #throw out of loop or stop the loop if count value is equal to or greater than 5"
   ]
  },
  {
   "cell_type": "code",
   "execution_count": 38,
   "metadata": {},
   "outputs": [
    {
     "name": "stdout",
     "output_type": "stream",
     "text": [
      "0\n",
      "1\n",
      "2\n",
      "4\n",
      "5\n"
     ]
    }
   ],
   "source": [
    "i=0\n",
    "for i in range(7):\n",
    "    if(i==3):\n",
    "        continue\n",
    "    if(i==6):\n",
    "        continue\n",
    "    print(i)\n",
    "       \n"
   ]
  },
  {
   "cell_type": "code",
   "execution_count": 8,
   "metadata": {},
   "outputs": [
    {
     "name": "stdout",
     "output_type": "stream",
     "text": [
      "Please enter a sentence: moni16\n",
      "Numbers :  2\n",
      "Letters :  4\n"
     ]
    }
   ],
   "source": [
    "sen=input('Please enter a sentence: ')\n",
    "num=0\n",
    "let=0\n",
    "for i in sen:\n",
    "    if i.isdigit():\n",
    "        num=num+1\n",
    "    elif i.isalpha():    \n",
    "        let=let+1\n",
    " \n",
    "print(\"Numbers : \", num)\n",
    "print(\"Letters : \", let)\n"
   ]
  },
  {
   "cell_type": "code",
   "execution_count": null,
   "metadata": {},
   "outputs": [],
   "source": [
    "m=16\n",
    "m = int(input(\"guess the lucky number: \"))\n",
    "while True:\n",
    "    if m==16:\n",
    "        break\n",
    "    else:\n",
    "        print(\"continue Forever\")"
   ]
  },
  {
   "cell_type": "code",
   "execution_count": null,
   "metadata": {},
   "outputs": [],
   "source": [
    "num = 1\n",
    "ans = 'no'\n",
    "num = int(input(\"guess the lucky number: \"))\n",
    "\n",
    "while True:\n",
    "    if(num==16 or ans=='no'):\n",
    "        break\n",
    "    ans = input(\"whether do you want to continue guessing the luckey number : \")\n",
    "else:\n",
    "    print('Continue until user answer no or guess correct number')"
   ]
  },
  {
   "cell_type": "code",
   "execution_count": null,
   "metadata": {},
   "outputs": [],
   "source": []
  },
  {
   "cell_type": "code",
   "execution_count": null,
   "metadata": {},
   "outputs": [],
   "source": [
    "i = 1\n",
    "while i<=5:\n",
    "    cn = int(input(\"guess the correct number\"))\n",
    "    if(cn!=5):\n",
    "        print('Try again')\n",
    "       \n",
    "    else:\n",
    "        print(\"Good guess\")\n",
    "        i=i+1\n",
    "        print('Game Over')\n",
    "        break"
   ]
  },
  {
   "cell_type": "code",
   "execution_count": null,
   "metadata": {},
   "outputs": [],
   "source": [
    "i = 1\n",
    "while i<=5:\n",
    "    cn = int(input(\"guess the correct number\"))\n",
    "    if(cn!=5):\n",
    "        print('Try again')\n",
    "       \n",
    "    else:\n",
    "        print(\"Good guess\")\n",
    "        break\n",
    "\n",
    "    i=i+1\n",
    "else:        \n",
    "    print('Sorry but that was not very successful')\n"
   ]
  }
 ],
 "metadata": {
  "kernelspec": {
   "display_name": "Python 3",
   "language": "python",
   "name": "python3"
  },
  "language_info": {
   "codemirror_mode": {
    "name": "ipython",
    "version": 3
   },
   "file_extension": ".py",
   "mimetype": "text/x-python",
   "name": "python",
   "nbconvert_exporter": "python",
   "pygments_lexer": "ipython3",
   "version": "3.7.4"
  }
 },
 "nbformat": 4,
 "nbformat_minor": 2
}
